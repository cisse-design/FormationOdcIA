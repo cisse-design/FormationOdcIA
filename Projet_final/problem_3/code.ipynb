{
 "cells": [
  {
   "cell_type": "code",
   "execution_count": 2,
   "metadata": {},
   "outputs": [],
   "source": [
    "\n",
    "import numpy as np\n",
    "import pandas as pd\n",
    "import os\n",
    "import time\n",
    "import seaborn as sns\n",
    "import sklearn.datasets\n",
    "import matplotlib.pyplot as plt\n",
    "#from wordcloud import WordCloud, STOPWORDS\n",
    "from sklearn.feature_extraction.text import CountVectorizer\n",
    "from sklearn.feature_extraction.text import TfidfVectorizer, TfidfTransformer\n",
    "from sklearn.model_selection import train_test_split\n",
    "from sklearn.naive_bayes import MultinomialNB\n",
    "from sklearn.metrics import confusion_matrix, classification_report, roc_auc_score\n",
    "from sklearn.preprocessing import StandardScaler\n",
    "from sklearn.cluster import KMeans\n",
    "from sklearn.decomposition import PCA\n",
    "from sklearn.decomposition import IncrementalPCA\n",
    "from sklearn.neighbors import NearestNeighbors\n",
    "from sklearn.cluster import AgglomerativeClustering\n",
    "from random import sample\n",
    "from numpy.random import uniform\n",
    "from math import isnan\n",
    "from sklearn.decomposition import TruncatedSVD\n",
    "#from yellowbrick.cluster import KElbowVisualizer\n",
    "from scipy.sparse import csr_matrix\n",
    "import pickle"
   ]
  },
  {
   "cell_type": "code",
   "execution_count": 2,
   "metadata": {},
   "outputs": [
    {
     "data": {
      "text/plain": [
       "['imdb.vocab', 'imdbEr.txt', 'README', 'test', 'train']"
      ]
     },
     "execution_count": 2,
     "metadata": {},
     "output_type": "execute_result"
    }
   ],
   "source": [
    "os.listdir(\"aclImdb\")"
   ]
  },
  {
   "cell_type": "code",
   "execution_count": 6,
   "metadata": {},
   "outputs": [],
   "source": [
    "data_train = sklearn.datasets.load_files('aclImdb/train')\n",
    "#data_test= sklearn.datasets.load_files('aclImdb/test')"
   ]
  },
  {
   "cell_type": "code",
   "execution_count": 4,
   "metadata": {},
   "outputs": [
    {
     "data": {
      "text/plain": [
       "['DESCR', 'data', 'filenames', 'target', 'target_names']"
      ]
     },
     "execution_count": 4,
     "metadata": {},
     "output_type": "execute_result"
    }
   ],
   "source": [
    "dir(data_train)"
   ]
  },
  {
   "cell_type": "code",
   "execution_count": 5,
   "metadata": {},
   "outputs": [
    {
     "data": {
      "text/plain": [
       "['neg', 'pos', 'unsup']"
      ]
     },
     "execution_count": 5,
     "metadata": {},
     "output_type": "execute_result"
    }
   ],
   "source": [
    "data_train.target_names"
   ]
  },
  {
   "cell_type": "code",
   "execution_count": 6,
   "metadata": {},
   "outputs": [
    {
     "data": {
      "text/plain": [
       "'data=np.concatenate([np.array(data_train.data), np.array(data_test.data)])\\ndata.shape'"
      ]
     },
     "execution_count": 6,
     "metadata": {},
     "output_type": "execute_result"
    }
   ],
   "source": [
    "#data=np.concatenate([np.array(data_train.data), np.array(data_test.data)])"
   ]
  },
  {
   "cell_type": "code",
   "execution_count": 7,
   "metadata": {},
   "outputs": [
    {
     "data": {
      "text/plain": [
       "(75000,)"
      ]
     },
     "execution_count": 7,
     "metadata": {},
     "output_type": "execute_result"
    }
   ],
   "source": [
    "data_final=np.array(data_train.data)\n",
    "data_final.shape"
   ]
  },
  {
   "cell_type": "code",
   "execution_count": 8,
   "metadata": {},
   "outputs": [
    {
     "data": {
      "text/plain": [
       "(75000, 124255)"
      ]
     },
     "execution_count": 8,
     "metadata": {},
     "output_type": "execute_result"
    }
   ],
   "source": [
    "count_vectorizer = CountVectorizer()\n",
    "data_count = count_vectorizer.fit_transform(data_final)\n",
    "data_count.shape"
   ]
  },
  {
   "cell_type": "code",
   "execution_count": 6,
   "metadata": {},
   "outputs": [
    {
     "data": {
      "text/html": [
       "<div>\n",
       "<style scoped>\n",
       "    .dataframe tbody tr th:only-of-type {\n",
       "        vertical-align: middle;\n",
       "    }\n",
       "\n",
       "    .dataframe tbody tr th {\n",
       "        vertical-align: top;\n",
       "    }\n",
       "\n",
       "    .dataframe thead th {\n",
       "        text-align: right;\n",
       "    }\n",
       "</style>\n",
       "<table border=\"1\" class=\"dataframe\">\n",
       "  <thead>\n",
       "    <tr style=\"text-align: right;\">\n",
       "      <th></th>\n",
       "      <th>0</th>\n",
       "    </tr>\n",
       "  </thead>\n",
       "  <tbody>\n",
       "    <tr>\n",
       "      <th>0</th>\n",
       "      <td>(0, 43186)\\t1\\n  (0, 78010)\\t4\\n  (0, 110005...</td>\n",
       "    </tr>\n",
       "    <tr>\n",
       "      <th>1</th>\n",
       "      <td>(0, 78010)\\t3\\n  (0, 56764)\\t4\\n  (0, 14846)...</td>\n",
       "    </tr>\n",
       "    <tr>\n",
       "      <th>2</th>\n",
       "      <td>(0, 78010)\\t12\\n  (0, 56764)\\t7\\n  (0, 40335...</td>\n",
       "    </tr>\n",
       "    <tr>\n",
       "      <th>3</th>\n",
       "      <td>(0, 78010)\\t4\\n  (0, 40335)\\t3\\n  (0, 14846)...</td>\n",
       "    </tr>\n",
       "    <tr>\n",
       "      <th>4</th>\n",
       "      <td>(0, 78010)\\t5\\n  (0, 110005)\\t1\\n  (0, 12418...</td>\n",
       "    </tr>\n",
       "    <tr>\n",
       "      <th>...</th>\n",
       "      <td>...</td>\n",
       "    </tr>\n",
       "    <tr>\n",
       "      <th>74995</th>\n",
       "      <td>(0, 78010)\\t6\\n  (0, 56764)\\t1\\n  (0, 47036)...</td>\n",
       "    </tr>\n",
       "    <tr>\n",
       "      <th>74996</th>\n",
       "      <td>(0, 78010)\\t1\\n  (0, 56764)\\t3\\n  (0, 14846)...</td>\n",
       "    </tr>\n",
       "    <tr>\n",
       "      <th>74997</th>\n",
       "      <td>(0, 78010)\\t3\\n  (0, 56764)\\t2\\n  (0, 40335)...</td>\n",
       "    </tr>\n",
       "    <tr>\n",
       "      <th>74998</th>\n",
       "      <td>(0, 78010)\\t10\\n  (0, 56764)\\t5\\n  (0, 47036...</td>\n",
       "    </tr>\n",
       "    <tr>\n",
       "      <th>74999</th>\n",
       "      <td>(0, 78010)\\t16\\n  (0, 110005)\\t2\\n  (0, 5676...</td>\n",
       "    </tr>\n",
       "  </tbody>\n",
       "</table>\n",
       "<p>75000 rows × 1 columns</p>\n",
       "</div>"
      ],
      "text/plain": [
       "                                                       0\n",
       "0        (0, 43186)\\t1\\n  (0, 78010)\\t4\\n  (0, 110005...\n",
       "1        (0, 78010)\\t3\\n  (0, 56764)\\t4\\n  (0, 14846)...\n",
       "2        (0, 78010)\\t12\\n  (0, 56764)\\t7\\n  (0, 40335...\n",
       "3        (0, 78010)\\t4\\n  (0, 40335)\\t3\\n  (0, 14846)...\n",
       "4        (0, 78010)\\t5\\n  (0, 110005)\\t1\\n  (0, 12418...\n",
       "...                                                  ...\n",
       "74995    (0, 78010)\\t6\\n  (0, 56764)\\t1\\n  (0, 47036)...\n",
       "74996    (0, 78010)\\t1\\n  (0, 56764)\\t3\\n  (0, 14846)...\n",
       "74997    (0, 78010)\\t3\\n  (0, 56764)\\t2\\n  (0, 40335)...\n",
       "74998    (0, 78010)\\t10\\n  (0, 56764)\\t5\\n  (0, 47036...\n",
       "74999    (0, 78010)\\t16\\n  (0, 110005)\\t2\\n  (0, 5676...\n",
       "\n",
       "[75000 rows x 1 columns]"
      ]
     },
     "execution_count": 6,
     "metadata": {},
     "output_type": "execute_result"
    }
   ],
   "source": [
    "pd.DataFrame(data_count)"
   ]
  },
  {
   "cell_type": "code",
   "execution_count": 26,
   "metadata": {},
   "outputs": [
    {
     "name": "stdout",
     "output_type": "stream",
     "text": [
      "(75000, 124255)\n"
     ]
    }
   ],
   "source": [
    "count_Tfidfvector = TfidfTransformer()\n",
    "X = count_Tfidfvector.fit_transform(data_count)\n",
    "print(X.shape)"
   ]
  },
  {
   "cell_type": "code",
   "execution_count": 8,
   "metadata": {},
   "outputs": [
    {
     "data": {
      "text/html": [
       "<div>\n",
       "<style scoped>\n",
       "    .dataframe tbody tr th:only-of-type {\n",
       "        vertical-align: middle;\n",
       "    }\n",
       "\n",
       "    .dataframe tbody tr th {\n",
       "        vertical-align: top;\n",
       "    }\n",
       "\n",
       "    .dataframe thead th {\n",
       "        text-align: right;\n",
       "    }\n",
       "</style>\n",
       "<table border=\"1\" class=\"dataframe\">\n",
       "  <thead>\n",
       "    <tr style=\"text-align: right;\">\n",
       "      <th></th>\n",
       "      <th>0</th>\n",
       "    </tr>\n",
       "  </thead>\n",
       "  <tbody>\n",
       "    <tr>\n",
       "      <th>0</th>\n",
       "      <td>(0, 123231)\\t0.07092857628697341\\n  (0, 1220...</td>\n",
       "    </tr>\n",
       "    <tr>\n",
       "      <th>1</th>\n",
       "      <td>(0, 123190)\\t0.09541539799178603\\n  (0, 1220...</td>\n",
       "    </tr>\n",
       "    <tr>\n",
       "      <th>2</th>\n",
       "      <td>(0, 122258)\\t0.04909421641839926\\n  (0, 1222...</td>\n",
       "    </tr>\n",
       "    <tr>\n",
       "      <th>3</th>\n",
       "      <td>(0, 123190)\\t0.11241356247439444\\n  (0, 1222...</td>\n",
       "    </tr>\n",
       "    <tr>\n",
       "      <th>4</th>\n",
       "      <td>(0, 123231)\\t0.05175119014597264\\n  (0, 1231...</td>\n",
       "    </tr>\n",
       "    <tr>\n",
       "      <th>...</th>\n",
       "      <td>...</td>\n",
       "    </tr>\n",
       "    <tr>\n",
       "      <th>74995</th>\n",
       "      <td>(0, 123717)\\t0.22175038344664735\\n  (0, 1215...</td>\n",
       "    </tr>\n",
       "    <tr>\n",
       "      <th>74996</th>\n",
       "      <td>(0, 122237)\\t0.08256701357627745\\n  (0, 1220...</td>\n",
       "    </tr>\n",
       "    <tr>\n",
       "      <th>74997</th>\n",
       "      <td>(0, 123190)\\t0.03251447075532937\\n  (0, 1228...</td>\n",
       "    </tr>\n",
       "    <tr>\n",
       "      <th>74998</th>\n",
       "      <td>(0, 122869)\\t0.03400530826082716\\n  (0, 1217...</td>\n",
       "    </tr>\n",
       "    <tr>\n",
       "      <th>74999</th>\n",
       "      <td>(0, 123190)\\t0.05071209133379548\\n  (0, 1220...</td>\n",
       "    </tr>\n",
       "  </tbody>\n",
       "</table>\n",
       "<p>75000 rows × 1 columns</p>\n",
       "</div>"
      ],
      "text/plain": [
       "                                                       0\n",
       "0        (0, 123231)\\t0.07092857628697341\\n  (0, 1220...\n",
       "1        (0, 123190)\\t0.09541539799178603\\n  (0, 1220...\n",
       "2        (0, 122258)\\t0.04909421641839926\\n  (0, 1222...\n",
       "3        (0, 123190)\\t0.11241356247439444\\n  (0, 1222...\n",
       "4        (0, 123231)\\t0.05175119014597264\\n  (0, 1231...\n",
       "...                                                  ...\n",
       "74995    (0, 123717)\\t0.22175038344664735\\n  (0, 1215...\n",
       "74996    (0, 122237)\\t0.08256701357627745\\n  (0, 1220...\n",
       "74997    (0, 123190)\\t0.03251447075532937\\n  (0, 1228...\n",
       "74998    (0, 122869)\\t0.03400530826082716\\n  (0, 1217...\n",
       "74999    (0, 123190)\\t0.05071209133379548\\n  (0, 1220...\n",
       "\n",
       "[75000 rows x 1 columns]"
      ]
     },
     "execution_count": 8,
     "metadata": {},
     "output_type": "execute_result"
    }
   ],
   "source": [
    "pd.DataFrame(X)"
   ]
  },
  {
   "cell_type": "code",
   "execution_count": 13,
   "metadata": {},
   "outputs": [],
   "source": [
    "#inertia = [] #SUM OF SQUARED ERROR\n",
    "#for k in range(1,11):\n",
    "#    km = KMeans(n_clusters=k, n_init=10)\n",
    "    \n",
    "#    km.fit(X)\n",
    "#    inertia.append(km.inertia_)"
   ]
  },
  {
   "cell_type": "code",
   "execution_count": 17,
   "metadata": {},
   "outputs": [
    {
     "data": {
      "image/png": "[encoded data removed]",
      "text/plain": [
       "<Figure size 640x480 with 1 Axes>"
      ]
     },
     "metadata": {},
     "output_type": "display_data"
    }
   ],
   "source": [
    "#g=sns.lineplot(x=range(1,11), y=inertia, marker='s')\n",
    "\n",
    "#g.set(xlabel =\"Nombre de cluster (k)\", ylabel = \"Inertia\", title ='Elbow Method')\n",
    "\n",
    "#plt.show()"
   ]
  },
  {
   "cell_type": "code",
   "execution_count": 10,
   "metadata": {},
   "outputs": [],
   "source": [
    "#from sklearn.cluster import KElbowVisualizer\n",
    "#model = KMeans()\n",
    "#visualizer = KElbowVisualizer(model, k=(1,11))\n",
    "\n",
    "#visualizer.fit(X)        # Fit the data to the visualizer\n",
    "#visualizer.show()#"
   ]
  },
  {
   "cell_type": "code",
   "execution_count": 19,
   "metadata": {},
   "outputs": [],
   "source": [
    "model = KMeans(n_clusters=3,n_init=10)\n",
    "\n",
    "predict = model.fit_predict(X)\n",
    "#X[\"Cluster\"] = X[\"Cluster\"].astype(\"category\")\n",
    "\n",
    "#X.head()"
   ]
  },
  {
   "cell_type": "code",
   "execution_count": 1,
   "metadata": {},
   "outputs": [
    {
     "ename": "NameError",
     "evalue": "name 'pd' is not defined",
     "output_type": "error",
     "traceback": [
      "\u001b[1;31m---------------------------------------------------------------------------\u001b[0m",
      "\u001b[1;31mNameError\u001b[0m                                 Traceback (most recent call last)",
      "Cell \u001b[1;32mIn[1], line 1\u001b[0m\n\u001b[1;32m----> 1\u001b[0m df_final \u001b[39m=\u001b[39m pd\u001b[39m.\u001b[39mconcat([data_final,predict], axis\u001b[39m=\u001b[39m\u001b[39m1\u001b[39m)\n",
      "\u001b[1;31mNameError\u001b[0m: name 'pd' is not defined"
     ]
    }
   ],
   "source": [
    "df_final = pd.concat([data_final,predict], axis=1)"
   ]
  }
 ],
 "metadata": {
  "kernelspec": {
   "display_name": "Tensorflow",
   "language": "python",
   "name": "python3"
  },
  "language_info": {
   "codemirror_mode": {
    "name": "ipython",
    "version": 3
   },
   "file_extension": ".py",
   "mimetype": "text/x-python",
   "name": "python",
   "nbconvert_exporter": "python",
   "pygments_lexer": "ipython3",
   "version": "3.9.15"
  },
  "orig_nbformat": 4,
  "vscode": {
   "interpreter": {
    "hash": "51434d365698884cf68d80d60651eeb7c4e4601a61136d18e6bccc0e55996fe8"
   }
  }
 },
 "nbformat": 4,
 "nbformat_minor": 2
}
