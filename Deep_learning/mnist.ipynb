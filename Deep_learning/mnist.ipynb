{
 "cells": [
  {
   "cell_type": "code",
   "execution_count": 4,
   "metadata": {},
   "outputs": [],
   "source": [
    "import numpy as np\n",
    "from tensorflow import keras\n",
    "from tensorflow.keras import optimizers\n",
    "from tensorflow.keras.models import Sequential\n",
    "from tensorflow.keras.layers import Dense\n"
   ]
  },
  {
   "cell_type": "code",
   "execution_count": 5,
   "metadata": {},
   "outputs": [],
   "source": [
    "### Partie A - Les données\n",
    "from tensorflow.keras.datasets import mnist\n",
    "from tensorflow.keras.utils import to_categorical"
   ]
  },
  {
   "cell_type": "code",
   "execution_count": 17,
   "metadata": {},
   "outputs": [
    {
     "name": "stdout",
     "output_type": "stream",
     "text": [
      "Model: \"sequential_1\"\n",
      "_________________________________________________________________\n",
      "Layer (type)                 Output Shape              Param #   \n",
      "=================================================================\n",
      "dense_3 (Dense)              (None, 8)                 6280      \n",
      "_________________________________________________________________\n",
      "dense_4 (Dense)              (None, 8)                 72        \n",
      "_________________________________________________________________\n",
      "dense_5 (Dense)              (None, 10)                90        \n",
      "=================================================================\n",
      "Total params: 6,442\n",
      "Trainable params: 6,442\n",
      "Non-trainable params: 0\n",
      "_________________________________________________________________\n",
      "None\n",
      "Epoch 1/50\n",
      "1875/1875 [==============================] - 18s 8ms/step - loss: 2.2711 - accuracy: 0.2102\n",
      "Epoch 2/50\n",
      "1875/1875 [==============================] - 15s 8ms/step - loss: 2.1522 - accuracy: 0.4065\n",
      "Epoch 3/50\n",
      "1875/1875 [==============================] - 10s 5ms/step - loss: 1.9256 - accuracy: 0.4794\n",
      "Epoch 4/50\n",
      "1875/1875 [==============================] - 9s 5ms/step - loss: 1.6390 - accuracy: 0.5405\n",
      "Epoch 5/50\n",
      "1875/1875 [==============================] - 9s 5ms/step - loss: 1.3978 - accuracy: 0.5900\n",
      "Epoch 6/50\n",
      "1875/1875 [==============================] - 8s 5ms/step - loss: 1.2270 - accuracy: 0.6345\n",
      "Epoch 7/50\n",
      "1875/1875 [==============================] - 9s 5ms/step - loss: 1.1061 - accuracy: 0.6740\n",
      "Epoch 8/50\n",
      "1875/1875 [==============================] - 9s 5ms/step - loss: 1.0144 - accuracy: 0.7057\n",
      "Epoch 9/50\n",
      "1875/1875 [==============================] - 9s 5ms/step - loss: 0.9398 - accuracy: 0.7331\n",
      "Epoch 10/50\n",
      "1875/1875 [==============================] - 11s 6ms/step - loss: 0.8766 - accuracy: 0.7580\n",
      "Epoch 11/50\n",
      "1875/1875 [==============================] - 11s 6ms/step - loss: 0.8223 - accuracy: 0.7799\n",
      "Epoch 12/50\n",
      "1875/1875 [==============================] - 10s 5ms/step - loss: 0.7749 - accuracy: 0.7981\n",
      "Epoch 13/50\n",
      "1875/1875 [==============================] - 9s 5ms/step - loss: 0.7333 - accuracy: 0.8141\n",
      "Epoch 14/50\n",
      "1875/1875 [==============================] - 11s 6ms/step - loss: 0.6963 - accuracy: 0.8256\n",
      "Epoch 15/50\n",
      "1875/1875 [==============================] - 11s 6ms/step - loss: 0.6632 - accuracy: 0.8346\n",
      "Epoch 16/50\n",
      "1875/1875 [==============================] - 10s 5ms/step - loss: 0.6338 - accuracy: 0.8414\n",
      "Epoch 17/50\n",
      "1875/1875 [==============================] - 10s 5ms/step - loss: 0.6074 - accuracy: 0.8479\n",
      "Epoch 18/50\n",
      "1875/1875 [==============================] - 10s 5ms/step - loss: 0.5836 - accuracy: 0.8529\n",
      "Epoch 19/50\n",
      "1875/1875 [==============================] - 9s 5ms/step - loss: 0.5621 - accuracy: 0.8579\n",
      "Epoch 20/50\n",
      "1875/1875 [==============================] - 9s 5ms/step - loss: 0.5424 - accuracy: 0.8623\n",
      "Epoch 21/50\n",
      "1875/1875 [==============================] - 9s 5ms/step - loss: 0.5245 - accuracy: 0.8661\n",
      "Epoch 22/50\n",
      "1875/1875 [==============================] - 9s 5ms/step - loss: 0.5084 - accuracy: 0.8696\n",
      "Epoch 23/50\n",
      "1875/1875 [==============================] - 9s 5ms/step - loss: 0.4937 - accuracy: 0.8728\n",
      "Epoch 24/50\n",
      "1875/1875 [==============================] - 9s 5ms/step - loss: 0.4801 - accuracy: 0.8760\n",
      "Epoch 25/50\n",
      "1875/1875 [==============================] - 9s 5ms/step - loss: 0.4680 - accuracy: 0.8794\n",
      "Epoch 26/50\n",
      "1875/1875 [==============================] - 8s 5ms/step - loss: 0.4569 - accuracy: 0.8818\n",
      "Epoch 27/50\n",
      "1875/1875 [==============================] - 10s 5ms/step - loss: 0.4466 - accuracy: 0.8840\n",
      "Epoch 28/50\n",
      "1875/1875 [==============================] - 9s 5ms/step - loss: 0.4372 - accuracy: 0.8863\n",
      "Epoch 29/50\n",
      "1875/1875 [==============================] - 7s 4ms/step - loss: 0.4286 - accuracy: 0.8883\n",
      "Epoch 30/50\n",
      "1875/1875 [==============================] - 6s 3ms/step - loss: 0.4209 - accuracy: 0.8898\n",
      "Epoch 31/50\n",
      "1875/1875 [==============================] - 6s 3ms/step - loss: 0.4138 - accuracy: 0.8919\n",
      "Epoch 32/50\n",
      "1875/1875 [==============================] - 6s 3ms/step - loss: 0.4070 - accuracy: 0.8932\n",
      "Epoch 33/50\n",
      "1875/1875 [==============================] - 6s 3ms/step - loss: 0.4010 - accuracy: 0.8949\n",
      "Epoch 34/50\n",
      "1875/1875 [==============================] - 6s 3ms/step - loss: 0.3952 - accuracy: 0.8959\n",
      "Epoch 35/50\n",
      "1875/1875 [==============================] - 9s 5ms/step - loss: 0.3899 - accuracy: 0.8966\n",
      "Epoch 36/50\n",
      "1875/1875 [==============================] - 10s 5ms/step - loss: 0.3850 - accuracy: 0.8979\n",
      "Epoch 37/50\n",
      "1875/1875 [==============================] - 8s 4ms/step - loss: 0.3803 - accuracy: 0.8990\n",
      "Epoch 38/50\n",
      "1875/1875 [==============================] - 9s 5ms/step - loss: 0.3759 - accuracy: 0.8999\n",
      "Epoch 39/50\n",
      "1875/1875 [==============================] - 8s 4ms/step - loss: 0.3717 - accuracy: 0.9009\n",
      "Epoch 40/50\n",
      "1875/1875 [==============================] - 9s 5ms/step - loss: 0.3678 - accuracy: 0.9019\n",
      "Epoch 41/50\n",
      "1875/1875 [==============================] - 9s 5ms/step - loss: 0.3641 - accuracy: 0.9028\n",
      "Epoch 42/50\n",
      "1875/1875 [==============================] - 10s 5ms/step - loss: 0.3605 - accuracy: 0.9031\n",
      "Epoch 43/50\n",
      "1875/1875 [==============================] - 9s 5ms/step - loss: 0.3572 - accuracy: 0.9042\n",
      "Epoch 44/50\n",
      "1875/1875 [==============================] - 9s 5ms/step - loss: 0.3540 - accuracy: 0.9049\n",
      "Epoch 45/50\n",
      "1875/1875 [==============================] - 12s 6ms/step - loss: 0.3510 - accuracy: 0.9064\n",
      "Epoch 46/50\n",
      "1875/1875 [==============================] - 10s 5ms/step - loss: 0.3481 - accuracy: 0.9065\n",
      "Epoch 47/50\n",
      "1875/1875 [==============================] - 9s 5ms/step - loss: 0.3451 - accuracy: 0.9071\n",
      "Epoch 48/50\n",
      "1875/1875 [==============================] - 9s 5ms/step - loss: 0.3425 - accuracy: 0.9079\n",
      "Epoch 49/50\n",
      "1875/1875 [==============================] - 9s 5ms/step - loss: 0.3398 - accuracy: 0.9082\n",
      "Epoch 50/50\n",
      "1875/1875 [==============================] - 9s 5ms/step - loss: 0.3377 - accuracy: 0.9093\n",
      "Valeur de lerreur sur les données de test (loss): 0.3406693637371063\n",
      "Précision sur les données de test (accuracy): 0.9072999954223633\n"
     ]
    }
   ],
   "source": [
    "# Téléchargement des données\n",
    "(X_train_data,Y_train_data),(X_test_data,Y_test_data) = mnist.load_data()\n",
    "N = X_train_data.shape[0] # N = 60 000 données\n",
    "# Données d'apprentissage X\n",
    "X_train = np.reshape(X_train_data,(N,784)) # vecteur image\n",
    "X_train = X_train/255 # normalisation\n",
    "# Données d'apprentissage Y vers une liste de taille 10\n",
    "Y_train = to_categorical(Y_train_data, num_classes=10)\n",
    "# Données de test\n",
    "X_test = np.reshape(X_test_data,(X_test_data.shape[0],784))\n",
    "X_test = X_test/255\n",
    "Y_test = to_categorical(Y_test_data, num_classes=10)\n",
    "### Partie B - Le réseau de neurones\n",
    "p = 8\n",
    "modele = Sequential()\n",
    "# Première couche : p neurones (entrée de dimension 784 = 28x28)\n",
    "modele.add(Dense(p, input_dim=784, activation='sigmoid'))\n",
    "# Deuxième couche : p neurones\n",
    "modele.add(Dense(p, activation='sigmoid'))\n",
    "# Couche de sortie : 1O neurones (un par chiffre)\n",
    "modele.add(Dense(10, activation='softmax'))\n",
    "# Choix de la méthode de descente de gradient\n",
    "modele.compile(loss='categorical_crossentropy',\n",
    "optimizer='sgd',\n",
    "metrics=['accuracy'])\n",
    "print(modele.summary())\n",
    "### Partie C - Calcul des poids par descente de gradient\n",
    "modele.fit(X_train, Y_train, batch_size=32, epochs=50)\n",
    "### Partie D - Résultats\n",
    "resultat = modele.evaluate(X_test, Y_test, verbose=0)\n",
    "print('Valeur de l''erreur sur les données de test (loss):', resultat[0])\n",
    "print('Précision sur les données de test (accuracy):', resultat[1])"
   ]
  },
  {
   "cell_type": "code",
   "execution_count": 16,
   "metadata": {},
   "outputs": [
    {
     "data": {
      "text/plain": [
       "array([0., 0., 0., 0., 0., 1., 0., 0., 0., 0.], dtype=float32)"
      ]
     },
     "execution_count": 16,
     "metadata": {},
     "output_type": "execute_result"
    }
   ],
   "source": [
    "Y_test[8]"
   ]
  },
  {
   "cell_type": "code",
   "execution_count": 14,
   "metadata": {},
   "outputs": [
    {
     "name": "stdout",
     "output_type": "stream",
     "text": [
      "Sortie réseau [7.08224491e-07 9.42439437e-01 1.48270838e-02 2.11954545e-02\n",
      " 3.58067162e-04 7.74891290e-04 1.10321955e-04 1.01468759e-03\n",
      " 1.87705234e-02 5.08918194e-04]\n",
      "Chiffre attendu : 1\n",
      "Chiffre prédit : 1\n"
     ]
    },
    {
     "data": {
      "image/png": "[encoded data removed]",
      "text/plain": [
       "<Figure size 640x480 with 1 Axes>"
      ]
     },
     "metadata": {},
     "output_type": "display_data"
    }
   ],
   "source": [
    "import matplotlib.pyplot as plt\n",
    "# Prédiction sur les données de test\n",
    "Y_predict = modele.predict(X_test)\n",
    "# Un exemple\n",
    "i = 5 # numéro de l'image\n",
    "chiffre_predit = np.argmax(Y_predict[i]) # prédiction par le réseau\n",
    "print(\"Sortie réseau\", Y_predict[i])\n",
    "print(\"Chiffre attendu :\", Y_test_data[i])\n",
    "print(\"Chiffre prédit :\", chiffre_predit)\n",
    "plt.imshow(X_test_data[i], cmap='Greys')\n",
    "plt.show()"
   ]
  }
 ],
 "metadata": {
  "kernelspec": {
   "display_name": "Tensorflow",
   "language": "python",
   "name": "python3"
  },
  "language_info": {
   "codemirror_mode": {
    "name": "ipython",
    "version": 3
   },
   "file_extension": ".py",
   "mimetype": "text/x-python",
   "name": "python",
   "nbconvert_exporter": "python",
   "pygments_lexer": "ipython3",
   "version": "3.9.15"
  },
  "orig_nbformat": 4,
  "vscode": {
   "interpreter": {
    "hash": "51434d365698884cf68d80d60651eeb7c4e4601a61136d18e6bccc0e55996fe8"
   }
  }
 },
 "nbformat": 4,
 "nbformat_minor": 2
}
