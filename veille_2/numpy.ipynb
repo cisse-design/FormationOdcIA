{
 "cells": [
  {
   "cell_type": "code",
   "execution_count": 9,
   "id": "71e8735b-bb28-4135-94d7-43ccd124e9d3",
   "metadata": {},
   "outputs": [
    {
     "name": "stdout",
     "output_type": "stream",
     "text": [
      "[1 2 3]\n",
      "[0 1 1]\n"
     ]
    }
   ],
   "source": [
    "import numpy as np\n",
    "\n",
    "a = np.array([1,2,3])\n",
    "print(a)\n",
    "\n",
    "c = a//2\n",
    "print(c)"
   ]
  },
  {
   "cell_type": "code",
   "execution_count": 34,
   "id": "63546fc5-2442-4924-b85a-692e34bb79ef",
   "metadata": {},
   "outputs": [
    {
     "data": {
      "text/plain": [
       "array([0.  , 0.25, 0.5 , 0.75, 1.  ])"
      ]
     },
     "execution_count": 34,
     "metadata": {},
     "output_type": "execute_result"
    }
   ],
   "source": [
    "a = np.linspace(0,1,5)\n",
    "a"
   ]
  },
  {
   "cell_type": "code",
   "execution_count": 64,
   "id": "d343edc5-848b-44d8-b6f2-9cb9133c1a8a",
   "metadata": {},
   "outputs": [
    {
     "data": {
      "text/plain": [
       "array([1, 1, 2, 3, 4, 5])"
      ]
     },
     "execution_count": 64,
     "metadata": {},
     "output_type": "execute_result"
    }
   ],
   "source": [
    "a = np.array([1,2,3,4])\n",
    "a = np.append(a,5)\n",
    "np.insert(a,1,1)"
   ]
  },
  {
   "cell_type": "code",
   "execution_count": 67,
   "id": "6c6586bb-cfd3-42ac-80ef-8a1d869ec553",
   "metadata": {},
   "outputs": [
    {
     "data": {
      "text/plain": [
       "array([4.9e-324, 9.9e-324, 1.5e-323, 2.0e-323])"
      ]
     },
     "execution_count": 67,
     "metadata": {},
     "output_type": "execute_result"
    }
   ],
   "source": [
    "a = np.empty(4)\n",
    "a"
   ]
  },
  {
   "cell_type": "code",
   "execution_count": 70,
   "id": "15ed127e-38ff-4386-b327-e4e5a67f4bc7",
   "metadata": {},
   "outputs": [
    {
     "data": {
      "text/plain": [
       "array([7., 7., 7.])"
      ]
     },
     "execution_count": 70,
     "metadata": {},
     "output_type": "execute_result"
    }
   ],
   "source": [
    "b = np.full(3,7.)\n",
    "b"
   ]
  },
  {
   "cell_type": "code",
   "execution_count": 101,
   "id": "f6f6bf10-21f4-44d9-b800-0ab4a6e3b2a3",
   "metadata": {},
   "outputs": [
    {
     "name": "stdout",
     "output_type": "stream",
     "text": [
      "[4 7 5 0 3 3 3 7]\n"
     ]
    },
    {
     "data": {
      "text/plain": [
       "2"
      ]
     },
     "execution_count": 101,
     "metadata": {},
     "output_type": "execute_result"
    }
   ],
   "source": [
    "np.random.seed(0)\n",
    "c = np.random.randint(0,8,8)\n",
    "print(c)\n",
    "b = list(c)\n",
    "b.index(5)"
   ]
  },
  {
   "cell_type": "code",
   "execution_count": 94,
   "id": "45bccd32-04ba-47e4-a68d-271fa0efbc24",
   "metadata": {},
   "outputs": [
    {
     "data": {
      "text/plain": [
       "array([0.12985657, 0.99668998, 0.7586843 ])"
      ]
     },
     "execution_count": 94,
     "metadata": {},
     "output_type": "execute_result"
    }
   ],
   "source": [
    "a = np.random.default_rng()\n",
    "a.random(3)"
   ]
  },
  {
   "cell_type": "code",
   "execution_count": 102,
   "id": "d03ce1d9-4947-4eec-bc9b-a6fe28233cae",
   "metadata": {},
   "outputs": [
    {
     "ename": "SyntaxError",
     "evalue": "invalid syntax (3583372446.py, line 3)",
     "output_type": "error",
     "traceback": [
      "\u001b[0;36m  File \u001b[0;32m\"/tmp/ipykernel_17551/3583372446.py\"\u001b[0;36m, line \u001b[0;32m3\u001b[0m\n\u001b[0;31m    np.searchsorted(c,8)\u001b[0m\n\u001b[0m    ^\u001b[0m\n\u001b[0;31mSyntaxError\u001b[0m\u001b[0;31m:\u001b[0m invalid syntax\n"
     ]
    }
   ],
   "source": [
    "np.where(c==8)[0][0]\n",
    "next(i[0] for i,v in np.ndenumerate(c) if(v==8)\n",
    "     np.searchsorted(c,8)"
   ]
  },
  {
   "cell_type": "code",
   "execution_count": null,
   "id": "00bc1a35-c564-4076-94d2-634f24b04a46",
   "metadata": {},
   "outputs": [],
   "source": []
  }
 ],
 "metadata": {
  "kernelspec": {
   "display_name": "Python 3 (ipykernel)",
   "language": "python",
   "name": "python3"
  },
  "language_info": {
   "codemirror_mode": {
    "name": "ipython",
    "version": 3
   },
   "file_extension": ".py",
   "mimetype": "text/x-python",
   "name": "python",
   "nbconvert_exporter": "python",
   "pygments_lexer": "ipython3",
   "version": "3.9.13"
  }
 },
 "nbformat": 4,
 "nbformat_minor": 5
}
